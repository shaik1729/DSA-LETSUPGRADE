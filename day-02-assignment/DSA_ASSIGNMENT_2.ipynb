{
  "nbformat": 4,
  "nbformat_minor": 0,
  "metadata": {
    "colab": {
      "name": "DSA_ASSIGNMENT-2.ipynb",
      "provenance": [],
      "collapsed_sections": []
    },
    "kernelspec": {
      "name": "python3",
      "display_name": "Python 3"
    }
  },
  "cells": [
    {
      "cell_type": "markdown",
      "metadata": {
        "id": "-yjwfhnxKVv5"
      },
      "source": [
        "Write a Python program to print even numbers in a list.\r\n",
        "\r\n",
        "Sample:\r\n",
        "\r\n",
        "Input: list1 = [12, 3, 55, 6, 144]\r\n",
        "\r\n",
        "Output: [12, 6, 144]\r\n",
        "\r\n",
        "Input: list2 = [2, 10, 9, 37]\r\n",
        "\r\n",
        "Output: [2, 10]"
      ]
    },
    {
      "cell_type": "code",
      "metadata": {
        "colab": {
          "base_uri": "https://localhost:8080/"
        },
        "id": "ZeN36mzpKHc9",
        "outputId": "9e15d610-ef44-40fd-bd09-9e71a9e10d56"
      },
      "source": [
        "list1 = [12, 3, 55, 6, 144]\r\n",
        "list2 = []\r\n",
        "for each in list1:\r\n",
        "    if each % 2 == 0:\r\n",
        "        list2.append(each)\r\n",
        "    else:\r\n",
        "        continue\r\n",
        "print(list2)"
      ],
      "execution_count": 2,
      "outputs": [
        {
          "output_type": "stream",
          "text": [
            "[12, 6, 144]\n"
          ],
          "name": "stdout"
        }
      ]
    },
    {
      "cell_type": "code",
      "metadata": {
        "colab": {
          "base_uri": "https://localhost:8080/"
        },
        "id": "6_QN2YFuK0Dt",
        "outputId": "1e09c340-e9db-43d4-b841-450f5eaaacf9"
      },
      "source": [
        "list1 = [2, 10, 9, 37]\r\n",
        "list2 = []\r\n",
        "for each in list1:\r\n",
        "    if each % 2 == 0:\r\n",
        "        list2.append(each)\r\n",
        "    else:\r\n",
        "        continue\r\n",
        "print(list2)"
      ],
      "execution_count": 3,
      "outputs": [
        {
          "output_type": "stream",
          "text": [
            "[2, 10]\n"
          ],
          "name": "stdout"
        }
      ]
    },
    {
      "cell_type": "markdown",
      "metadata": {
        "id": "VPH9mnx3K6c-"
      },
      "source": [
        "Write a program to print the following pattern\r\n",
        "\r\n",
        "----1\r\n",
        "   \r\n",
        "---22\r\n",
        "  \r\n",
        "--333\r\n",
        " \r\n",
        "-4444\r\n",
        "\r\n",
        "55555"
      ]
    },
    {
      "cell_type": "code",
      "metadata": {
        "colab": {
          "base_uri": "https://localhost:8080/"
        },
        "id": "0aGgqP6NLAJp",
        "outputId": "a7e4911b-d285-4dc8-9bb2-3db46c895e22"
      },
      "source": [
        "j = 5\r\n",
        "for i in range(6):\r\n",
        "    print(\" \"*j+str(i)*i)\r\n",
        "    j-=1"
      ],
      "execution_count": 7,
      "outputs": [
        {
          "output_type": "stream",
          "text": [
            "     \n",
            "    1\n",
            "   22\n",
            "  333\n",
            " 4444\n",
            "55555\n"
          ],
          "name": "stdout"
        }
      ]
    }
  ]
}