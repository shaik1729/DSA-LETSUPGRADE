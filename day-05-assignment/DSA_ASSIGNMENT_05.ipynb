{
  "nbformat": 4,
  "nbformat_minor": 0,
  "metadata": {
    "colab": {
      "name": "DSA-ASSIGNMENT-05.ipynb",
      "provenance": []
    },
    "kernelspec": {
      "name": "python3",
      "display_name": "Python 3"
    }
  },
  "cells": [
    {
      "cell_type": "markdown",
      "metadata": {
        "id": "vfwzK-a2iZ6g"
      },
      "source": [
        "Question 1\r\n",
        "\r\n",
        "Name 5 sorting algorithms, also write their time complexities(best, average, worst)."
      ]
    },
    {
      "cell_type": "markdown",
      "metadata": {
        "id": "zh7vz0gtk1d7"
      },
      "source": [
        "1) selection sort\r\n",
        "\r\n",
        "best case : O(n^2)\r\n",
        "\r\n",
        "avg case : O(n^2)\r\n",
        "\r\n",
        "worst case : O(n^2)\r\n"
      ]
    },
    {
      "cell_type": "code",
      "metadata": {
        "id": "qGDu0ORjh3YJ"
      },
      "source": [
        "# Python program for implementation of Selection \r\n",
        "# Sort \r\n",
        "import sys \r\n",
        "A = [64, 25, 12, 22, 11] \r\n",
        "\r\n",
        "# Traverse through all array elements \r\n",
        "for i in range(len(A)): \r\n",
        "\t\r\n",
        "\t# Find the minimum element in remaining \r\n",
        "\t# unsorted array \r\n",
        "\tmin_idx = i \r\n",
        "\tfor j in range(i+1, len(A)): \r\n",
        "\t\tif A[min_idx] > A[j]: \r\n",
        "\t\t\tmin_idx = j \r\n",
        "\t\t\t\r\n",
        "\t# Swap the found minimum element with \r\n",
        "\t# the first element\t\t \r\n",
        "\tA[i], A[min_idx] = A[min_idx], A[i] \r\n",
        "\r\n",
        "# Driver code to test above \r\n",
        "print (\"Sorted array\") \r\n",
        "for i in range(len(A)): \r\n",
        "\tprint(\"%d\" %A[i]), "
      ],
      "execution_count": null,
      "outputs": []
    },
    {
      "cell_type": "markdown",
      "metadata": {
        "id": "Y7W11AtHlUG1"
      },
      "source": [
        "2) Bubble sort\r\n",
        "\r\n",
        "best case : O(n)\r\n",
        "\r\n",
        "avg case : O(n^2)\r\n",
        "\r\n",
        "worst case : O(n^2)\r\n"
      ]
    },
    {
      "cell_type": "code",
      "metadata": {
        "id": "6ZTPN-0ulSdW"
      },
      "source": [
        "# Python program for implementation of Bubble Sort \r\n",
        "\r\n",
        "def bubbleSort(arr): \r\n",
        "\tn = len(arr) \r\n",
        "\r\n",
        "\t# Traverse through all array elements \r\n",
        "\tfor i in range(n): \r\n",
        "\r\n",
        "\t\t# Last i elements are already in place \r\n",
        "\t\tfor j in range(0, n-i-1): \r\n",
        "\r\n",
        "\t\t\t# traverse the array from 0 to n-i-1 \r\n",
        "\t\t\t# Swap if the element found is greater \r\n",
        "\t\t\t# than the next element \r\n",
        "\t\t\tif arr[j] > arr[j+1] : \r\n",
        "\t\t\t\tarr[j], arr[j+1] = arr[j+1], arr[j] \r\n",
        "\r\n",
        "# Driver code to test above \r\n",
        "arr = [64, 34, 25, 12, 22, 11, 90] \r\n",
        "\r\n",
        "bubbleSort(arr) \r\n",
        "\r\n",
        "print (\"Sorted array is:\") \r\n",
        "for i in range(len(arr)): \r\n",
        "\tprint (\"%d\" %arr[i]), \r\n"
      ],
      "execution_count": null,
      "outputs": []
    },
    {
      "cell_type": "markdown",
      "metadata": {
        "id": "0-dKmcd5ljrV"
      },
      "source": [
        "3) insertion sort\r\n",
        "\r\n",
        "best case : O(n)\r\n",
        "\r\n",
        "avg case : O(n^2)\r\n",
        "\r\n",
        "worst case : O(n^2)\r\n"
      ]
    },
    {
      "cell_type": "code",
      "metadata": {
        "id": "BZhgWUZjlsYp"
      },
      "source": [
        "# Python program for implementation of Insertion Sort \r\n",
        "\r\n",
        "# Function to do insertion sort \r\n",
        "def insertionSort(arr): \r\n",
        "\r\n",
        "\t# Traverse through 1 to len(arr) \r\n",
        "\tfor i in range(1, len(arr)): \r\n",
        "\r\n",
        "\t\tkey = arr[i] \r\n",
        "\r\n",
        "\t\t# Move elements of arr[0..i-1], that are \r\n",
        "\t\t# greater than key, to one position ahead \r\n",
        "\t\t# of their current position \r\n",
        "\t\tj = i-1\r\n",
        "\t\twhile j >= 0 and key < arr[j] : \r\n",
        "\t\t\t\tarr[j + 1] = arr[j] \r\n",
        "\t\t\t\tj -= 1\r\n",
        "\t\tarr[j + 1] = key \r\n",
        "\r\n",
        "\r\n",
        "# Driver code to test above \r\n",
        "arr = [12, 11, 13, 5, 6] \r\n",
        "insertionSort(arr) \r\n",
        "for i in range(len(arr)): \r\n",
        "\tprint (\"% d\" % arr[i]) \r\n",
        "\r\n",
        "# This code is contributed by Mohit Kumra \r\n"
      ],
      "execution_count": null,
      "outputs": []
    },
    {
      "cell_type": "markdown",
      "metadata": {
        "id": "gY9qdXDRl1dS"
      },
      "source": [
        "4) Heap sort\r\n",
        "\r\n",
        "best case : O(nlogn)\r\n",
        "\r\n",
        "avg case : O(nlogn)\r\n",
        "\r\n",
        "worst case : O(nlogn)\r\n"
      ]
    },
    {
      "cell_type": "code",
      "metadata": {
        "id": "jXM91wcNmAyj"
      },
      "source": [
        "# Python program for implementation of heap Sort\r\n",
        "\r\n",
        "# To heapify subtree rooted at index i.\r\n",
        "# n is size of heap\r\n",
        "\r\n",
        "\r\n",
        "def heapify(arr, n, i):\r\n",
        "\tlargest = i # Initialize largest as root\r\n",
        "\tl = 2 * i + 1\t # left = 2*i + 1\r\n",
        "\tr = 2 * i + 2\t # right = 2*i + 2\r\n",
        "\r\n",
        "\t# See if left child of root exists and is\r\n",
        "\t# greater than root\r\n",
        "\tif l < n and arr[largest] < arr[l]:\r\n",
        "\t\tlargest = l\r\n",
        "\r\n",
        "\t# See if right child of root exists and is\r\n",
        "\t# greater than root\r\n",
        "\tif r < n and arr[largest] < arr[r]:\r\n",
        "\t\tlargest = r\r\n",
        "\r\n",
        "\t# Change root, if needed\r\n",
        "\tif largest != i:\r\n",
        "\t\tarr[i], arr[largest] = arr[largest], arr[i] # swap\r\n",
        "\r\n",
        "\t\t# Heapify the root.\r\n",
        "\t\theapify(arr, n, largest)\r\n",
        "\r\n",
        "# The main function to sort an array of given size\r\n",
        "\r\n",
        "\r\n",
        "def heapSort(arr):\r\n",
        "\tn = len(arr)\r\n",
        "\r\n",
        "\t# Build a maxheap.\r\n",
        "\tfor i in range(n//2 - 1, -1, -1):\r\n",
        "\t\theapify(arr, n, i)\r\n",
        "\r\n",
        "\t# One by one extract elements\r\n",
        "\tfor i in range(n-1, 0, -1):\r\n",
        "\t\tarr[i], arr[0] = arr[0], arr[i] # swap\r\n",
        "\t\theapify(arr, i, 0)\r\n",
        "\r\n",
        "\r\n",
        "# Driver code\r\n",
        "arr = [12, 11, 13, 5, 6, 7]\r\n",
        "heapSort(arr)\r\n",
        "n = len(arr)\r\n",
        "print(\"Sorted array is\")\r\n",
        "for i in range(n):\r\n",
        "\tprint(\"%d\" % arr[i]),\r\n",
        "# This code is contributed by Mohit Kumra\r\n"
      ],
      "execution_count": null,
      "outputs": []
    },
    {
      "cell_type": "markdown",
      "metadata": {
        "id": "1LhFVQuKmIVy"
      },
      "source": [
        "5) quick sort\r\n",
        "\r\n",
        "best case : O(nlogn)\r\n",
        "\r\n",
        "avg case : O(nlogn)\r\n",
        "\r\n",
        "worst case : O(n^2)\r\n"
      ]
    },
    {
      "cell_type": "code",
      "metadata": {
        "id": "yEl2KOt8mTcD"
      },
      "source": [
        "# Python program for implementation of Quicksort Sort \r\n",
        "\r\n",
        "# This function takes last element as pivot, places \r\n",
        "# the pivot element at its correct position in sorted \r\n",
        "# array, and places all smaller (smaller than pivot) \r\n",
        "# to left of pivot and all greater elements to right \r\n",
        "# of pivot \r\n",
        "def partition(arr,low,high): \r\n",
        "\ti = ( low-1 )\t\t # index of smaller element \r\n",
        "\tpivot = arr[high]\t # pivot \r\n",
        "\r\n",
        "\tfor j in range(low , high): \r\n",
        "\r\n",
        "\t\t# If current element is smaller than the pivot \r\n",
        "\t\tif arr[j] < pivot: \r\n",
        "\t\t\r\n",
        "\t\t\t# increment index of smaller element \r\n",
        "\t\t\ti = i+1\r\n",
        "\t\t\tarr[i],arr[j] = arr[j],arr[i] \r\n",
        "\r\n",
        "\tarr[i+1],arr[high] = arr[high],arr[i+1] \r\n",
        "\treturn ( i+1 ) \r\n",
        "\r\n",
        "# The main function that implements QuickSort \r\n",
        "# arr[] --> Array to be sorted, \r\n",
        "# low --> Starting index, \r\n",
        "# high --> Ending index \r\n",
        "\r\n",
        "# Function to do Quick sort \r\n",
        "def quickSort(arr,low,high): \r\n",
        "\tif low < high: \r\n",
        "\r\n",
        "\t\t# pi is partitioning index, arr[p] is now \r\n",
        "\t\t# at right place \r\n",
        "\t\tpi = partition(arr,low,high) \r\n",
        "\r\n",
        "\t\t# Separately sort elements before \r\n",
        "\t\t# partition and after partition \r\n",
        "\t\tquickSort(arr, low, pi-1) \r\n",
        "\t\tquickSort(arr, pi+1, high) \r\n",
        "\r\n",
        "# Driver code to test above \r\n",
        "arr = [10, 7, 8, 9, 1, 5] \r\n",
        "n = len(arr) \r\n",
        "quickSort(arr,0,n-1) \r\n",
        "print (\"Sorted array is:\") \r\n",
        "for i in range(n): \r\n",
        "\tprint (\"%d\" %arr[i]), \r\n",
        "\r\n",
        "# This code is contributed by Mohit Kumra \r\n"
      ],
      "execution_count": null,
      "outputs": []
    },
    {
      "cell_type": "markdown",
      "metadata": {
        "id": "59c84wXWnCtn"
      },
      "source": [
        "Question 2\r\n",
        "\r\n",
        "Implement selection sort algorithm using Python."
      ]
    },
    {
      "cell_type": "code",
      "metadata": {
        "colab": {
          "base_uri": "https://localhost:8080/"
        },
        "id": "pKLsbNkVnH7I",
        "outputId": "e9523382-b25b-49da-d641-cce47b386000"
      },
      "source": [
        "# Python program for implementation of Selection \r\n",
        "# Sort \r\n",
        "import sys \r\n",
        "A = [64, 25, 12, 22, 11] \r\n",
        "\r\n",
        "# Traverse through all array elements \r\n",
        "for i in range(len(A)): \r\n",
        "\t\r\n",
        "\t# Find the minimum element in remaining \r\n",
        "\t# unsorted array \r\n",
        "\tmin_idx = i \r\n",
        "\tfor j in range(i+1, len(A)): \r\n",
        "\t\tif A[min_idx] > A[j]: \r\n",
        "\t\t\tmin_idx = j \r\n",
        "\t\t\t\r\n",
        "\t# Swap the found minimum element with \r\n",
        "\t# the first element\t\t \r\n",
        "\tA[i], A[min_idx] = A[min_idx], A[i] \r\n",
        "\r\n",
        "# Driver code to test above \r\n",
        "print (\"Sorted array\") \r\n",
        "for i in range(len(A)): \r\n",
        "\tprint(\"%d\" %A[i]) "
      ],
      "execution_count": 1,
      "outputs": [
        {
          "output_type": "stream",
          "text": [
            "Sorted array\n",
            "11\n",
            "12\n",
            "22\n",
            "25\n",
            "64\n"
          ],
          "name": "stdout"
        }
      ]
    },
    {
      "cell_type": "markdown",
      "metadata": {
        "id": "83qukn0xnWNR"
      },
      "source": [
        "Question 3\r\n",
        "\r\n",
        "Implement pop operation of the stack"
      ]
    },
    {
      "cell_type": "code",
      "metadata": {
        "colab": {
          "base_uri": "https://localhost:8080/"
        },
        "id": "OgeLVQx6ocd3",
        "outputId": "410abf26-e28e-4a03-a1f3-186c0dd65b94"
      },
      "source": [
        "# Python program for implementation of stack\r\n",
        "\r\n",
        "# import maxsize from sys module \r\n",
        "# Used to return -infinite when stack is empty\r\n",
        "from sys import maxsize\r\n",
        "\r\n",
        "# Function to create a stack. It initializes size of stack as 0\r\n",
        "def createStack():\r\n",
        "\tstack = []\r\n",
        "\treturn stack\r\n",
        "\r\n",
        "# Stack is empty when stack size is 0\r\n",
        "def isEmpty(stack):\r\n",
        "\treturn len(stack) == 0\r\n",
        "\r\n",
        "# Function to add an item to stack. It increases size by 1\r\n",
        "def push(stack, item):\r\n",
        "\tstack.append(item)\r\n",
        "\tprint(item + \" pushed to stack \")\r\n",
        "\t\r\n",
        "# Function to remove an item from stack. It decreases size by 1\r\n",
        "def pop(stack):\r\n",
        "\tif (isEmpty(stack)):\r\n",
        "\t\treturn str(-maxsize -1) # return minus infinite\r\n",
        "\t\r\n",
        "\treturn stack.pop()\r\n",
        "\r\n",
        "# Function to return the top from stack without removing it\r\n",
        "def peek(stack):\r\n",
        "\tif (isEmpty(stack)):\r\n",
        "\t\treturn str(-maxsize -1) # return minus infinite\r\n",
        "\treturn stack[len(stack) - 1]\r\n",
        "\r\n",
        "# Driver program to test above functions \r\n",
        "stack = createStack()\r\n",
        "push(stack, str(10))\r\n",
        "push(stack, str(20))\r\n",
        "push(stack, str(30))\r\n",
        "print(pop(stack) + \" popped from stack\")\r\n"
      ],
      "execution_count": 2,
      "outputs": [
        {
          "output_type": "stream",
          "text": [
            "10 pushed to stack \n",
            "20 pushed to stack \n",
            "30 pushed to stack \n",
            "30 popped from stack\n"
          ],
          "name": "stdout"
        }
      ]
    },
    {
      "cell_type": "markdown",
      "metadata": {
        "id": "A-E7kvJIuNMY"
      },
      "source": [
        "Question 4\r\n",
        "\r\n",
        "Implement dequeue operation of the queue"
      ]
    },
    {
      "cell_type": "code",
      "metadata": {
        "id": "reoxtnCiuOoa",
        "outputId": "3e2bd84b-e278-4cb8-cc88-be894e4e2e16",
        "colab": {
          "base_uri": "https://localhost:8080/"
        }
      },
      "source": [
        "# Python program to \r\n",
        "# demonstrate queue implementation\r\n",
        "# using list\r\n",
        "\r\n",
        "# Initializing a queue\r\n",
        "queue = []\r\n",
        "\r\n",
        "# Adding elements to the queue\r\n",
        "queue.append('a')\r\n",
        "queue.append('b')\r\n",
        "queue.append('c')\r\n",
        "\r\n",
        "print(\"Initial queue\")\r\n",
        "print(queue)\r\n",
        "\r\n",
        "# Removing elements from the queue\r\n",
        "print(\"\\nElements dequeued from queue\")\r\n",
        "print(queue.pop(0))\r\n",
        "print(queue.pop(0))\r\n",
        "print(queue.pop(0))\r\n",
        "\r\n",
        "print(\"\\nQueue after removing elements\")\r\n",
        "print(queue)\r\n",
        "\r\n",
        "# Uncommenting print(queue.pop(0))\r\n",
        "# will raise and IndexError\r\n",
        "# as the queue is now empty\r\n"
      ],
      "execution_count": 3,
      "outputs": [
        {
          "output_type": "stream",
          "text": [
            "Initial queue\n",
            "['a', 'b', 'c']\n",
            "\n",
            "Elements dequeued from queue\n",
            "a\n",
            "b\n",
            "c\n",
            "\n",
            "Queue after removing elements\n",
            "[]\n"
          ],
          "name": "stdout"
        }
      ]
    }
  ]
}