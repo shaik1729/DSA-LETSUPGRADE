{
  "nbformat": 4,
  "nbformat_minor": 0,
  "metadata": {
    "colab": {
      "name": "DSA-ASSIGNMENT-06.ipynb",
      "provenance": []
    },
    "kernelspec": {
      "name": "python3",
      "display_name": "Python 3"
    }
  },
  "cells": [
    {
      "cell_type": "markdown",
      "metadata": {
        "id": "YO_g582YW2wq"
      },
      "source": [
        "A Barua number is a number that consists of only zeroes and ones and has only one \r\n",
        "\r\n",
        "1. Barua’s number will start with 1. Given numbers, find out the multiplication of the numbers. \r\n",
        "\r\n",
        "Note: The input may contain one decimal number and all other Barua numbers. (Assume that each number is the very large and the total number of values give is also very large)\r\n",
        "\r\n",
        "Input 1: 100 10 12 1000\r\n",
        "\r\n",
        "Output 1: 12000000\r\n",
        "\r\n",
        "Input 2: 100 121 1000000000000000\r\n",
        "\r\n",
        "Output 2: 12100000000000000000\r\n",
        "\r\n",
        "Input 3: 10 100 1000\r\n",
        "\r\n",
        "Output 3: 1000000"
      ]
    },
    {
      "cell_type": "code",
      "metadata": {
        "colab": {
          "base_uri": "https://localhost:8080/"
        },
        "id": "NzHqdXVbWj4O",
        "outputId": "f68250dd-c07a-4209-f264-512ccba99673"
      },
      "source": [
        "list1 = [100,10,12,1000]\r\n",
        "count = 0\r\n",
        "decimalnum = 0\r\n",
        "for each in list1:\r\n",
        "    if '0' in str(each):\r\n",
        "        temp = str(each).count('0')\r\n",
        "        count += temp\r\n",
        "    else:\r\n",
        "        decimalnum = each\r\n",
        "\r\n",
        "print(int(str(decimalnum)+'0'*count))"
      ],
      "execution_count": 5,
      "outputs": [
        {
          "output_type": "stream",
          "text": [
            "12000000\n"
          ],
          "name": "stdout"
        }
      ]
    },
    {
      "cell_type": "markdown",
      "metadata": {
        "id": "YOT2XpbDYUeo"
      },
      "source": [
        "Question 2\r\n",
        "\r\n",
        "Implement push, pop and find the minimum element in a stack in O(1) time complexity."
      ]
    },
    {
      "cell_type": "code",
      "metadata": {
        "colab": {
          "base_uri": "https://localhost:8080/"
        },
        "id": "P5Bbm7v3YUJa",
        "outputId": "09323757-8d44-473e-fb8b-dc98071be0ab"
      },
      "source": [
        "# Class to make a Node \r\n",
        "class Node: \r\n",
        "\t# Constructor which assign argument to nade's value \r\n",
        "\tdef __init__(self, value): \r\n",
        "\t\tself.value = value \r\n",
        "\t\tself.next = None\r\n",
        "\r\n",
        "\t# This method returns the string representation of the object. \r\n",
        "\tdef __str__(self): \r\n",
        "\t\treturn \"Node({})\".format(self.value) \r\n",
        "\t\r\n",
        "\t# __repr__ is same as __str__ \r\n",
        "\t__repr__ = __str__ \r\n",
        "\r\n",
        "\r\n",
        "class Stack: \r\n",
        "\t# Stack Constructor initialise top of stack and counter. \r\n",
        "\tdef __init__(self): \r\n",
        "\t\tself.top = None\r\n",
        "\t\tself.count = 0\r\n",
        "\t\tself.minimum = None\r\n",
        "\t\t\r\n",
        "\t# This method returns the string representation of the object (stack). \r\n",
        "\tdef __str__(self): \r\n",
        "\t\ttemp = self.top \r\n",
        "\t\tout = [] \r\n",
        "\t\twhile temp: \r\n",
        "\t\t\tout.append(str(temp.value)) \r\n",
        "\t\t\ttemp = temp.next\r\n",
        "\t\tout = '\\n'.join(out) \r\n",
        "\t\treturn ('Top {} \\n\\nStack :\\n{}'.format(self.top,out)) \r\n",
        "\t\t\r\n",
        "\t# __repr__ is same as __str__ \r\n",
        "\t__repr__=__str__ \r\n",
        "\t\r\n",
        "\t# This method is used to get minimum element of stack \r\n",
        "\tdef getMin(self): \r\n",
        "\t\tif self.top is None: \r\n",
        "\t\t\treturn \"Stack is empty\"\r\n",
        "\t\telse: \r\n",
        "\t\t\tprint(\"Minimum Element in the stack is: {}\" .format(self.minimum)) \r\n",
        "\r\n",
        "\r\n",
        "\r\n",
        "\t# Method to check if Stack is Empty or not \r\n",
        "\tdef isEmpty(self): \r\n",
        "\t\t# If top equals to None then stack is empty \r\n",
        "\t\tif self.top == None: \r\n",
        "\t\t\treturn True\r\n",
        "\t\telse: \r\n",
        "\t\t# If top not equal to None then stack is empty \r\n",
        "\t\t\treturn False\r\n",
        "\r\n",
        "\t# This method returns length of stack\t \r\n",
        "\tdef __len__(self): \r\n",
        "\t\tself.count = 0\r\n",
        "\t\ttempNode = self.top \r\n",
        "\t\twhile tempNode: \r\n",
        "\t\t\ttempNode = tempNode.next\r\n",
        "\t\t\tself.count+=1\r\n",
        "\t\treturn self.count \r\n",
        "\r\n",
        "\t# This method returns top of stack\t \r\n",
        "\tdef peek(self): \r\n",
        "\t\tif self.top is None: \r\n",
        "\t\t\tprint (\"Stack is empty\") \r\n",
        "\t\telse: \r\n",
        "\t\t\tif self.top.value < self.minimum: \r\n",
        "\t\t\t\tprint(\"Top Most Element is: {}\" .format(self.minimum)) \r\n",
        "\t\t\telse: \r\n",
        "\t\t\t\tprint(\"Top Most Element is: {}\" .format(self.top.value)) \r\n",
        "\r\n",
        "\t# This method is used to add node to stack \r\n",
        "\tdef push(self,value): \r\n",
        "\t\tif self.top is None: \r\n",
        "\t\t\tself.top = Node(value) \r\n",
        "\t\t\tself.minimum = value \r\n",
        "\t\t\r\n",
        "\t\telif value < self.minimum: \r\n",
        "\t\t\ttemp = (2 * value) - self.minimum \r\n",
        "\t\t\tnew_node = Node(temp) \r\n",
        "\t\t\tnew_node.next = self.top \r\n",
        "\t\t\tself.top = new_node \r\n",
        "\t\t\tself.minimum = value \r\n",
        "\t\telse: \r\n",
        "\t\t\tnew_node = Node(value) \r\n",
        "\t\t\tnew_node.next = self.top \r\n",
        "\t\t\tself.top = new_node \r\n",
        "\t\tprint(\"Number Inserted: {}\" .format(value)) \r\n",
        "\r\n",
        "\t# This method is used to pop top of stack \r\n",
        "\tdef pop(self): \r\n",
        "\t\tif self.top is None: \r\n",
        "\t\t\tprint( \"Stack is empty\") \r\n",
        "\t\telse: \r\n",
        "\t\t\tremovedNode = self.top.value \r\n",
        "\t\t\tself.top = self.top.next\r\n",
        "\t\t\tif removedNode < self.minimum: \r\n",
        "\t\t\t\tprint (\"Top Most Element Removed :{} \" .format(self.minimum)) \r\n",
        "\t\t\t\tself.minimum = ( ( 2 * self.minimum ) - removedNode ) \r\n",
        "\t\t\telse: \r\n",
        "\t\t\t\tprint (\"Top Most Element Removed : {}\" .format(removedNode)) \r\n",
        "\r\n",
        "\t\t\t\t\r\n",
        "\t\t\t\r\n",
        "\t\r\n",
        "# Driver program to test above class \r\n",
        "stack = Stack() \r\n",
        "\r\n",
        "stack.push(3) \r\n",
        "stack.push(5) \r\n",
        "stack.getMin() \r\n",
        "stack.push(2) \r\n",
        "stack.push(1) \r\n",
        "stack.getMin()\t \r\n",
        "stack.pop() \r\n",
        "stack.getMin() \r\n",
        "stack.pop() \r\n",
        "stack.peek() \r\n",
        "\r\n",
        "# This code is contributed by Blinkii \r\n"
      ],
      "execution_count": 4,
      "outputs": [
        {
          "output_type": "stream",
          "text": [
            "Number Inserted: 3\n",
            "Number Inserted: 5\n",
            "Minimum Element in the stack is: 3\n",
            "Number Inserted: 2\n",
            "Number Inserted: 1\n",
            "Minimum Element in the stack is: 1\n",
            "Top Most Element Removed :1 \n",
            "Minimum Element in the stack is: 2\n",
            "Top Most Element Removed :2 \n",
            "Top Most Element is: 5\n"
          ],
          "name": "stdout"
        }
      ]
    }
  ]
}