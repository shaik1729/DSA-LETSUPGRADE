{
  "nbformat": 4,
  "nbformat_minor": 0,
  "metadata": {
    "colab": {
      "name": "DSA-ASSIGNMENT-03.ipynb",
      "provenance": []
    },
    "kernelspec": {
      "name": "python3",
      "display_name": "Python 3"
    }
  },
  "cells": [
    {
      "cell_type": "markdown",
      "metadata": {
        "id": "1_cDCO3bPrLO"
      },
      "source": [
        "Question 1\r\n",
        "\r\n",
        "Write a Python program to add two numbers using class and object.\r\n",
        "(Take both numbers as input from the user)"
      ]
    },
    {
      "cell_type": "code",
      "metadata": {
        "colab": {
          "base_uri": "https://localhost:8080/"
        },
        "id": "NlkVbv_hPaxX",
        "outputId": "c0171a4a-1551-4dce-d68f-b194e339a81b"
      },
      "source": [
        "class add:\r\n",
        "    \r\n",
        "    def __init__(self,num1,num2):\r\n",
        "        self.num1 = num1\r\n",
        "        self.num2 = num2\r\n",
        "        \r\n",
        "    def addition(self):\r\n",
        "        return self.num1+self.num2\r\n",
        "\r\n",
        "obj1 = add(10,20)\r\n",
        "result = obj1.addition()\r\n",
        "print(\"The sum of the two number : \",result)"
      ],
      "execution_count": 8,
      "outputs": [
        {
          "output_type": "stream",
          "text": [
            "The sum of the two number :  30\n"
          ],
          "name": "stdout"
        }
      ]
    },
    {
      "cell_type": "markdown",
      "metadata": {
        "id": "KfNmpB8ARLab"
      },
      "source": [
        "Question 2\r\n",
        "\r\n",
        "Define a function swap that should swap two values and print the swapped variables outside the\r\n",
        "swap function."
      ]
    },
    {
      "cell_type": "code",
      "metadata": {
        "colab": {
          "base_uri": "https://localhost:8080/"
        },
        "id": "EGA6bh-ERM1B",
        "outputId": "d44ea16b-5a70-4bc3-b893-db1ec1b23da8"
      },
      "source": [
        "# global a = 10\r\n",
        "# global b = 20\r\n",
        "\r\n",
        "def swap(a,b):\r\n",
        "    a,b = b,a\r\n",
        "    return a,b\r\n",
        "\r\n",
        "a,b = swap(10,20)\r\n",
        "print(\"a = \",a,\"b = \",b)"
      ],
      "execution_count": 15,
      "outputs": [
        {
          "output_type": "stream",
          "text": [
            "a =  20 b =  10\n"
          ],
          "name": "stdout"
        }
      ]
    }
  ]
}